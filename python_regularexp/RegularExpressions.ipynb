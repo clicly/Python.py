{
 "metadata": {
  "language_info": {
   "codemirror_mode": {
    "name": "ipython",
    "version": 3
   },
   "file_extension": ".py",
   "mimetype": "text/x-python",
   "name": "python",
   "nbconvert_exporter": "python",
   "pygments_lexer": "ipython3",
   "version": "3.8.3-final"
  },
  "orig_nbformat": 2,
  "kernelspec": {
   "name": "python3",
   "display_name": "Python 3"
  }
 },
 "nbformat": 4,
 "nbformat_minor": 2,
 "cells": [
  {
   "source": [
    "# Regular Expression in Python"
   ],
   "cell_type": "markdown",
   "metadata": {}
  },
  {
   "source": [
    "## import Library"
   ],
   "cell_type": "markdown",
   "metadata": {}
  },
  {
   "cell_type": "code",
   "execution_count": 1,
   "metadata": {},
   "outputs": [],
   "source": [
    "import re"
   ]
  },
  {
   "source": [
    "The followinga are valid written phone numbers formats:\n",
    "- +1-555-555-31221\n",
    "- 1-555-555-3121\n",
    "- 555-555-3121\n",
    "- +1(555)-555-3121\n",
    "- +15555553121 "
   ],
   "cell_type": "markdown",
   "metadata": {}
  },
  {
   "cell_type": "code",
   "execution_count": 2,
   "metadata": {},
   "outputs": [],
   "source": [
    "my_phone_no = \"555-555-3121\""
   ]
  },
  {
   "cell_type": "code",
   "execution_count": null,
   "metadata": {},
   "outputs": [],
   "source": []
  },
  {
   "cell_type": "code",
   "execution_count": 3,
   "metadata": {},
   "outputs": [],
   "source": [
    "pattern = r\"\\d\""
   ]
  },
  {
   "cell_type": "code",
   "execution_count": 4,
   "metadata": {},
   "outputs": [
    {
     "output_type": "execute_result",
     "data": {
      "text/plain": [
       "['5', '5', '5', '5', '5', '5', '3', '1', '2', '1']"
      ]
     },
     "metadata": {},
     "execution_count": 4
    }
   ],
   "source": [
    "re.findall(pattern, my_phone_no)\n",
    "# list of digits"
   ]
  },
  {
   "cell_type": "code",
   "execution_count": 5,
   "metadata": {},
   "outputs": [
    {
     "output_type": "execute_result",
     "data": {
      "text/plain": [
       "['555', '555', '3121']"
      ]
     },
     "metadata": {},
     "execution_count": 5
    }
   ],
   "source": [
    "pattern = r\"\\d+\"\n",
    "re.findall(pattern, my_phone_no)\n",
    "# same digits together"
   ]
  },
  {
   "source": [
    "my_other_phone_no = \"Hi there, my home number is 555-567-5309 and my cell number is +1-555-555-0007.\"\n",
    "pattern = r\"\\d+\"\n",
    "re.findall(pattern, my_other_phone_no)"
   ],
   "cell_type": "code",
   "metadata": {},
   "execution_count": 6,
   "outputs": [
    {
     "output_type": "execute_result",
     "data": {
      "text/plain": [
       "['555', '567', '5309', '1', '555', '555', '0007']"
      ]
     },
     "metadata": {},
     "execution_count": 6
    }
   ]
  },
  {
   "cell_type": "code",
   "execution_count": 7,
   "metadata": {},
   "outputs": [
    {
     "output_type": "execute_result",
     "data": {
      "text/plain": [
       "['8', '30', '1', '555', '555', '0007']"
      ]
     },
     "metadata": {},
     "execution_count": 7
    }
   ],
   "source": [
    "meeting_str = \"Hey, give me a call at 8:30 on my cell +1-555-555-0007.\"\n",
    "re.findall(pattern, meeting_str)"
   ]
  },
  {
   "cell_type": "code",
   "execution_count": 8,
   "metadata": {},
   "outputs": [
    {
     "output_type": "execute_result",
     "data": {
      "text/plain": [
       "['+1-555-555-0007']"
      ]
     },
     "metadata": {},
     "execution_count": 8
    }
   ],
   "source": [
    "meeting_str = \"Hey, give me a call at 8:30 on my cell +1-555-555-0007.\"\n",
    "pattern = r\"\\+\\d{1}-\\d{3}-\\d{3}-\\d{4}\"\n",
    "re.findall(pattern, meeting_str)"
   ]
  },
  {
   "cell_type": "code",
   "execution_count": 9,
   "metadata": {},
   "outputs": [
    {
     "output_type": "execute_result",
     "data": {
      "text/plain": [
       "[]"
      ]
     },
     "metadata": {},
     "execution_count": 9
    }
   ],
   "source": [
    "re.findall(pattern, my_phone_no)"
   ]
  },
  {
   "cell_type": "code",
   "execution_count": 10,
   "metadata": {},
   "outputs": [
    {
     "output_type": "execute_result",
     "data": {
      "text/plain": [
       "['+1-555-555-0007']"
      ]
     },
     "metadata": {},
     "execution_count": 10
    }
   ],
   "source": [
    "# optional '+' or '-' in pattern using ?\n",
    "\n",
    "pattern = r\"\\+?\\d{1}-?\\d{3}-?\\d{3}-?\\d{4}\"\n",
    "re.findall(pattern, my_other_phone_no)"
   ]
  },
  {
   "cell_type": "code",
   "execution_count": 11,
   "metadata": {},
   "outputs": [
    {
     "output_type": "execute_result",
     "data": {
      "text/plain": [
       "[]"
      ]
     },
     "metadata": {},
     "execution_count": 11
    }
   ],
   "source": [
    "re.findall(pattern, my_phone_no)"
   ]
  },
  {
   "cell_type": "code",
   "execution_count": 12,
   "metadata": {},
   "outputs": [
    {
     "output_type": "execute_result",
     "data": {
      "text/plain": [
       "['+1-555-555-0007']"
      ]
     },
     "metadata": {},
     "execution_count": 12
    }
   ],
   "source": [
    "# optional '(',  ')' using ?\n",
    "\n",
    "pattern = r\"\\+?\\d{1}-?\\(?\\d{3}\\)?-?\\d{3}-?\\d{4}\"\n",
    "re.findall(pattern, my_other_phone_no)"
   ]
  },
  {
   "cell_type": "code",
   "execution_count": 13,
   "metadata": {},
   "outputs": [
    {
     "output_type": "execute_result",
     "data": {
      "text/plain": [
       "[]"
      ]
     },
     "metadata": {},
     "execution_count": 13
    }
   ],
   "source": [
    "re.findall(pattern, my_phone_no)"
   ]
  },
  {
   "cell_type": "code",
   "execution_count": 14,
   "metadata": {},
   "outputs": [
    {
     "output_type": "execute_result",
     "data": {
      "text/plain": [
       "['+1-555-555-3122', '1-555-555-3121', '+1(555)-555-3121', '+15555553121']"
      ]
     },
     "metadata": {},
     "execution_count": 14
    }
   ],
   "source": [
    "phone_numbers = \"My phone numbers are +1-555-555-31221, 1-555-555-3121,  555-555-3121, +1(555)-555-3121, +15555553121\"\n",
    "re.findall(pattern, phone_numbers)"
   ]
  },
  {
   "source": [
    "+  `\\d` -> `[0-9]`\n",
    "\n",
    "Both are representing digits in regular expression"
   ],
   "cell_type": "markdown",
   "metadata": {}
  },
  {
   "cell_type": "code",
   "execution_count": 15,
   "metadata": {},
   "outputs": [
    {
     "output_type": "execute_result",
     "data": {
      "text/plain": [
       "['+1-555-555-3122', '1-555-555-3121', '+1(555)-555-3121', '+15555553121']"
      ]
     },
     "metadata": {},
     "execution_count": 15
    }
   ],
   "source": [
    "pattern = r\"\\+?\\d{1}-?\\(?[0-9]{3}\\)?-?[0-9]{3}-?[0-9]{4}\"\n",
    "re.findall(pattern, phone_numbers)"
   ]
  },
  {
   "source": [
    "## Groups\n",
    "\n",
    "`<country-code>-<area-code>-<exchange-code>-<line-number>`\n",
    "\n",
    "This represents:\n",
    "1-212-555-5123\n",
    "- 1 is the country code\n",
    "- 212 is the area code\n",
    "- 555 is the exchange code\n",
    "- 5123 is the line number "
   ],
   "cell_type": "markdown",
   "metadata": {}
  },
  {
   "cell_type": "code",
   "execution_count": 16,
   "metadata": {},
   "outputs": [
    {
     "output_type": "stream",
     "name": "stdout",
     "text": [
      "group +1-212-555-5123\ngroups ('+1-', '212-', '555-', '5123')\nexample [('+1-', '555-', '555-', '3122'), ('1-', '555-', '555-', '3121'), ('+1', '555', '555', '3121')]\n"
     ]
    }
   ],
   "source": [
    "# () paranthesis represents a group in re\n",
    "\n",
    "group_1 = \"(\\+?\\d{1}-?)\"\n",
    "group_2 = \"([0-9]{3}-?)\"\n",
    "group_3 = \"([0-9]{3}-?)\"\n",
    "group_4 = \"([0-9]{4})\"\n",
    "\n",
    "example = '+1-212-555-5123'\n",
    "grouped_pattern = f\"{group_1}{group_2}{group_3}{group_4}\"\n",
    "grouped_pattern = re.compile(grouped_pattern)\n",
    "\n",
    "matched = grouped_pattern.match(example)\n",
    "if matched:\n",
    "    print('group', matched.group())\n",
    "    print('groups', matched.groups())\n",
    "\n",
    "print(\"example\", grouped_pattern.findall(phone_numbers))"
   ]
  },
  {
   "cell_type": "code",
   "execution_count": 17,
   "metadata": {},
   "outputs": [
    {
     "output_type": "execute_result",
     "data": {
      "text/plain": [
       "'+1-212-555-5123'"
      ]
     },
     "metadata": {},
     "execution_count": 17
    }
   ],
   "source": [
    "matched[0]"
   ]
  },
  {
   "cell_type": "code",
   "execution_count": 18,
   "metadata": {},
   "outputs": [
    {
     "output_type": "execute_result",
     "data": {
      "text/plain": [
       "('+1-', '212-', '555-', '5123')"
      ]
     },
     "metadata": {},
     "execution_count": 18
    }
   ],
   "source": [
    "matched[1], matched[2], matched[3], matched[4]"
   ]
  },
  {
   "cell_type": "code",
   "execution_count": 19,
   "metadata": {},
   "outputs": [
    {
     "output_type": "execute_result",
     "data": {
      "text/plain": [
       "'+1-212-555-5123'"
      ]
     },
     "metadata": {},
     "execution_count": 19
    }
   ],
   "source": [
    "matched.group(0)"
   ]
  },
  {
   "cell_type": "code",
   "execution_count": 20,
   "metadata": {},
   "outputs": [
    {
     "output_type": "execute_result",
     "data": {
      "text/plain": [
       "('+1-', '212-')"
      ]
     },
     "metadata": {},
     "execution_count": 20
    }
   ],
   "source": [
    " matched.group(1), matched.group(2)"
   ]
  },
  {
   "source": [
    "## Named Groups"
   ],
   "cell_type": "markdown",
   "metadata": {}
  },
  {
   "cell_type": "code",
   "execution_count": 21,
   "metadata": {},
   "outputs": [
    {
     "output_type": "stream",
     "name": "stdout",
     "text": [
      "group +1-(212)-555-5123\ngroups ('1', '212', '555', '5123')\nexample [('1', '555', '555', '3122'), ('1', '555', '555', '3121'), ('1', '555', '555', '3121'), ('1', '555', '555', '3121')]\n"
     ]
    }
   ],
   "source": [
    "group_1 = \"\\+?-?(?P<country_code>\\d{1})-?\"\n",
    "group_2 = \"\\(?(?P<region_code>[0-9]{3})\\)?-?\"\n",
    "group_3 = \"(?P<exchange_code>[0-9]{3})-?\"\n",
    "group_4 = \"(?P<line_number>[0-9]{4})\"\n",
    "\n",
    "example = '+1-(212)-555-5123'\n",
    "grouped_pattern = f\"{group_1}{group_2}{group_3}{group_4}\"            # group1 can be optional \n",
    "grouped_pattern = re.compile(grouped_pattern)\n",
    "\n",
    "matched = grouped_pattern.match(example)\n",
    "if matched:\n",
    "    print('group', matched.group())\n",
    "    print('groups', matched.groups())\n",
    "\n",
    "print(\"example\", grouped_pattern.findall(phone_numbers))"
   ]
  },
  {
   "cell_type": "code",
   "execution_count": 22,
   "metadata": {},
   "outputs": [
    {
     "output_type": "execute_result",
     "data": {
      "text/plain": [
       "{'country_code': '1',\n",
       " 'region_code': '212',\n",
       " 'exchange_code': '555',\n",
       " 'line_number': '5123'}"
      ]
     },
     "metadata": {},
     "execution_count": 22
    }
   ],
   "source": [
    "matched.groupdict()"
   ]
  },
  {
   "cell_type": "code",
   "execution_count": 23,
   "metadata": {},
   "outputs": [
    {
     "output_type": "execute_result",
     "data": {
      "text/plain": [
       "('1', '1')"
      ]
     },
     "metadata": {},
     "execution_count": 23
    }
   ],
   "source": [
    "matched[1], matched['country_code']"
   ]
  },
  {
   "cell_type": "code",
   "execution_count": 24,
   "metadata": {},
   "outputs": [
    {
     "output_type": "execute_result",
     "data": {
      "text/plain": [
       "('212', '212')"
      ]
     },
     "metadata": {},
     "execution_count": 24
    }
   ],
   "source": [
    "matched[2], matched['region_code']"
   ]
  },
  {
   "cell_type": "code",
   "execution_count": 25,
   "metadata": {},
   "outputs": [
    {
     "output_type": "stream",
     "name": "stdout",
     "text": [
      "{'country_code': '1', 'region_code': '555', 'exchange_code': '555', 'line_number': '3122'}\n{'country_code': '1', 'region_code': '555', 'exchange_code': '555', 'line_number': '3121'}\n{'country_code': '1', 'region_code': '555', 'exchange_code': '555', 'line_number': '3121'}\n{'country_code': '1', 'region_code': '555', 'exchange_code': '555', 'line_number': '3121'}\n"
     ]
    }
   ],
   "source": [
    "for m in grouped_pattern.finditer(phone_numbers):\n",
    "    print(m.groupdict())"
   ]
  },
  {
   "cell_type": "code",
   "execution_count": 26,
   "metadata": {},
   "outputs": [
    {
     "output_type": "execute_result",
     "data": {
      "text/plain": [
       "[{'country_code': '1',\n",
       "  'region_code': '555',\n",
       "  'exchange_code': '555',\n",
       "  'line_number': '3122',\n",
       "  'phone_number': '+1-555-555-3122'},\n",
       " {'country_code': '1',\n",
       "  'region_code': '555',\n",
       "  'exchange_code': '555',\n",
       "  'line_number': '3121',\n",
       "  'phone_number': '1-555-555-3121'},\n",
       " {'country_code': '1',\n",
       "  'region_code': '555',\n",
       "  'exchange_code': '555',\n",
       "  'line_number': '3121',\n",
       "  'phone_number': '+1(555)-555-3121'},\n",
       " {'country_code': '1',\n",
       "  'region_code': '555',\n",
       "  'exchange_code': '555',\n",
       "  'line_number': '3121',\n",
       "  'phone_number': '+15555553121'}]"
      ]
     },
     "metadata": {},
     "execution_count": 26
    }
   ],
   "source": [
    "dataset = []\n",
    "for m in grouped_pattern.finditer(phone_numbers):\n",
    "    data = {**m.groupdict()}\n",
    "    data['phone_number'] = m.group(0)\n",
    "    dataset.append(data)\n",
    "dataset"
   ]
  },
  {
   "cell_type": "code",
   "execution_count": 27,
   "metadata": {},
   "outputs": [
    {
     "output_type": "execute_result",
     "data": {
      "text/plain": [
       "  country_code region_code exchange_code line_number      phone_number\n",
       "0            1         555           555        3122   +1-555-555-3122\n",
       "1            1         555           555        3121    1-555-555-3121\n",
       "2            1         555           555        3121  +1(555)-555-3121\n",
       "3            1         555           555        3121      +15555553121"
      ],
      "text/html": "<div>\n<style scoped>\n    .dataframe tbody tr th:only-of-type {\n        vertical-align: middle;\n    }\n\n    .dataframe tbody tr th {\n        vertical-align: top;\n    }\n\n    .dataframe thead th {\n        text-align: right;\n    }\n</style>\n<table border=\"1\" class=\"dataframe\">\n  <thead>\n    <tr style=\"text-align: right;\">\n      <th></th>\n      <th>country_code</th>\n      <th>region_code</th>\n      <th>exchange_code</th>\n      <th>line_number</th>\n      <th>phone_number</th>\n    </tr>\n  </thead>\n  <tbody>\n    <tr>\n      <th>0</th>\n      <td>1</td>\n      <td>555</td>\n      <td>555</td>\n      <td>3122</td>\n      <td>+1-555-555-3122</td>\n    </tr>\n    <tr>\n      <th>1</th>\n      <td>1</td>\n      <td>555</td>\n      <td>555</td>\n      <td>3121</td>\n      <td>1-555-555-3121</td>\n    </tr>\n    <tr>\n      <th>2</th>\n      <td>1</td>\n      <td>555</td>\n      <td>555</td>\n      <td>3121</td>\n      <td>+1(555)-555-3121</td>\n    </tr>\n    <tr>\n      <th>3</th>\n      <td>1</td>\n      <td>555</td>\n      <td>555</td>\n      <td>3121</td>\n      <td>+15555553121</td>\n    </tr>\n  </tbody>\n</table>\n</div>"
     },
     "metadata": {},
     "execution_count": 27
    }
   ],
   "source": [
    "import pandas as pd\n",
    "df = pd.DataFrame(dataset)\n",
    "df"
   ]
  },
  {
   "source": [
    "## What about letters"
   ],
   "cell_type": "markdown",
   "metadata": {}
  },
  {
   "cell_type": "code",
   "execution_count": 28,
   "metadata": {},
   "outputs": [
    {
     "output_type": "execute_result",
     "data": {
      "text/plain": [
       "['e',\n",
       " 'l',\n",
       " 'l',\n",
       " 'o',\n",
       " 'o',\n",
       " 'r',\n",
       " 'l',\n",
       " 'd',\n",
       " 'h',\n",
       " 'a',\n",
       " 'v',\n",
       " 'e',\n",
       " 's',\n",
       " 'c',\n",
       " 'o',\n",
       " 'r',\n",
       " 'e',\n",
       " 'o',\n",
       " 'f',\n",
       " 'o',\n",
       " 'w',\n",
       " 'c',\n",
       " 'o',\n",
       " 'o',\n",
       " 'l',\n",
       " 'i',\n",
       " 's',\n",
       " 't',\n",
       " 'h',\n",
       " 'a',\n",
       " 't']"
      ]
     },
     "metadata": {},
     "execution_count": 28
    }
   ],
   "source": [
    "my_text = \"Hello World, I have score of 10/10. How cool is that?\"\n",
    "\n",
    "pattern = r\"[a-z]\"\n",
    "re.findall(pattern, my_text)"
   ]
  },
  {
   "cell_type": "code",
   "execution_count": 29,
   "metadata": {},
   "outputs": [
    {
     "output_type": "execute_result",
     "data": {
      "text/plain": [
       "['H',\n",
       " 'e',\n",
       " 'l',\n",
       " 'l',\n",
       " 'o',\n",
       " 'W',\n",
       " 'o',\n",
       " 'r',\n",
       " 'l',\n",
       " 'd',\n",
       " 'I',\n",
       " 'h',\n",
       " 'a',\n",
       " 'v',\n",
       " 'e',\n",
       " 's',\n",
       " 'c',\n",
       " 'o',\n",
       " 'r',\n",
       " 'e',\n",
       " 'o',\n",
       " 'f',\n",
       " 'H',\n",
       " 'o',\n",
       " 'w',\n",
       " 'c',\n",
       " 'o',\n",
       " 'o',\n",
       " 'l',\n",
       " 'i',\n",
       " 's',\n",
       " 't',\n",
       " 'h',\n",
       " 'a',\n",
       " 't']"
      ]
     },
     "metadata": {},
     "execution_count": 29
    }
   ],
   "source": [
    "pattern = r\"[a-zA-Z]\"\n",
    "re.findall(pattern, my_text)"
   ]
  },
  {
   "cell_type": "code",
   "execution_count": 30,
   "metadata": {},
   "outputs": [
    {
     "output_type": "execute_result",
     "data": {
      "text/plain": [
       "['Hello', 'World', 'I', 'have', 'score', 'of', 'How', 'cool', 'is', 'that']"
      ]
     },
     "metadata": {},
     "execution_count": 30
    }
   ],
   "source": [
    "pattern = r\"[a-zA-Z]+\"\n",
    "re.findall(pattern, my_text)"
   ]
  },
  {
   "cell_type": "code",
   "execution_count": 31,
   "metadata": {},
   "outputs": [
    {
     "output_type": "execute_result",
     "data": {
      "text/plain": [
       "['Hello',\n",
       " 'World',\n",
       " 'I',\n",
       " 'have',\n",
       " 'score',\n",
       " 'of',\n",
       " '10',\n",
       " '10',\n",
       " 'How',\n",
       " 'cool',\n",
       " 'is',\n",
       " 'that']"
      ]
     },
     "metadata": {},
     "execution_count": 31
    }
   ],
   "source": [
    "pattern = r\"\\w+\"\n",
    "re.findall(pattern, my_text)"
   ]
  },
  {
   "source": [
    "`\\w` -> `[0-9a-zA-Z]`\n",
    "\n",
    "Both are same."
   ],
   "cell_type": "markdown",
   "metadata": {}
  },
  {
   "cell_type": "code",
   "execution_count": 32,
   "metadata": {},
   "outputs": [
    {
     "output_type": "execute_result",
     "data": {
      "text/plain": [
       "['Hello World', ' I have score of 10', '10. How cool is that']"
      ]
     },
     "metadata": {},
     "execution_count": 32
    }
   ],
   "source": [
    "pattern = r\"[0-9a-zA-Z .]+\"\n",
    "re.findall(pattern, my_text)"
   ]
  },
  {
   "source": [
    "## Metacharacters\n",
    "\n",
    "- `^` start of string\n",
    "- `[^0-9]` this matches everything except `[0-9]` because of `^`\n",
    "- `$` end of the string\n",
    "- `+` if 1 or more happens\n",
    "- `*` if 0 or more happens\n",
    "- `?` makes the value before ? optional\n",
    "- `|` or operator\n",
    "- `\\d` -> `[0-9]` -> digits\n",
    "- `\\D` -> `[^0-9]` -> not digits\n",
    "- `\\s` whitespace\n",
    "- `\\S` not whitespace\n",
    "- `\\w` -> `[0-9a-zA-Z]`\n",
    "- `\\W` -> `[^0-9a-zA-Z]`\n"
   ],
   "cell_type": "markdown",
   "metadata": {}
  },
  {
   "cell_type": "code",
   "execution_count": 32,
   "metadata": {},
   "outputs": [],
   "source": [
    "\n"
   ]
  }
 ]
}