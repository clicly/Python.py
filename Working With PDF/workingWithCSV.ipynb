{
 "cells": [
  {
   "cell_type": "markdown",
   "metadata": {},
   "source": [
    "# Working with CSV(Comma Seprate Values) File"
   ]
  },
  {
   "cell_type": "code",
   "execution_count": 40,
   "metadata": {},
   "outputs": [
    {
     "output_type": "execute_result",
     "data": {
      "text/plain": "'/media/its-k/Soft Disk/Programming/Python.py/Working With PDF'"
     },
     "metadata": {},
     "execution_count": 40
    }
   ],
   "source": [
    "pwd"
   ]
  },
  {
   "cell_type": "code",
   "execution_count": 41,
   "metadata": {},
   "outputs": [],
   "source": [
    "import csv"
   ]
  },
  {
   "cell_type": "code",
   "execution_count": 42,
   "metadata": {},
   "outputs": [],
   "source": [
    "# open the file\n",
    "data = open('example.csv', encoding='utf-8')"
   ]
  },
  {
   "cell_type": "code",
   "execution_count": 43,
   "metadata": {},
   "outputs": [],
   "source": [
    "# csv.reader\n",
    "csv_data = csv.reader(data)"
   ]
  },
  {
   "cell_type": "code",
   "execution_count": 44,
   "metadata": {},
   "outputs": [
    {
     "output_type": "execute_result",
     "data": {
      "text/plain": "[['id', 'first_name', 'last_name', 'email', 'gender', 'ip_address', 'city'],\n ['1',\n  'Joseph',\n  'Zaniolini',\n  'jzaniolini0@simplemachines.org',\n  'Male',\n  '163.168.68.132',\n  'Pedro Leopoldo'],\n ['2',\n  'Freida',\n  'Drillingcourt',\n  'fdrillingcourt1@umich.edu',\n  'Female',\n  '97.212.102.79',\n  'Buri'],\n ['3',\n  'Nanni',\n  'Herity',\n  'nherity2@statcounter.com',\n  'Female',\n  '145.151.178.98',\n  'Claver'],\n ['4',\n  'Orazio',\n  'Frayling',\n  'ofrayling3@economist.com',\n  'Male',\n  '25.199.143.143',\n  'Kungur'],\n ['5',\n  'Julianne',\n  'Murrison',\n  'jmurrison4@cbslocal.com',\n  'Female',\n  '10.186.243.144',\n  'Sainte-Luce-sur-Loire'],\n ['6',\n  'Lucy',\n  'Gamet',\n  'lgamet5@list-manage.com',\n  'Female',\n  '10.151.93.36',\n  'Pak Phli'],\n ['7',\n  'Dyana',\n  'Howatt',\n  'dhowatt6@amazon.com',\n  'Female',\n  '224.169.61.29',\n  'Palmares'],\n ['8',\n  'Kassey',\n  'Herion',\n  'kherion7@amazon.com',\n  'Female',\n  '245.51.154.79',\n  'Zákynthos'],\n ['9',\n  'Chrissy',\n  'Hedworth',\n  'chedworth8@china.com.cn',\n  'Male',\n  '124.222.93.57',\n  'Boevange-sur-Attert']]"
     },
     "metadata": {},
     "execution_count": 44
    }
   ],
   "source": [
    "# reformat it into a python object list of lists\n",
    "data_lines = list(csv_data)\n",
    "data_lines[:10]"
   ]
  },
  {
   "cell_type": "code",
   "execution_count": 45,
   "metadata": {},
   "outputs": [
    {
     "output_type": "execute_result",
     "data": {
      "text/plain": "['id', 'first_name', 'last_name', 'email', 'gender', 'ip_address', 'city']"
     },
     "metadata": {},
     "execution_count": 45
    }
   ],
   "source": [
    "data_lines[0]"
   ]
  },
  {
   "cell_type": "code",
   "execution_count": 46,
   "metadata": {},
   "outputs": [
    {
     "output_type": "execute_result",
     "data": {
      "text/plain": "1001"
     },
     "metadata": {},
     "execution_count": 46
    }
   ],
   "source": [
    "len(data_lines)"
   ]
  },
  {
   "cell_type": "code",
   "execution_count": 47,
   "metadata": {
    "tags": []
   },
   "outputs": [
    {
     "output_type": "stream",
     "name": "stdout",
     "text": "['id', 'first_name', 'last_name', 'email', 'gender', 'ip_address', 'city']\n['1', 'Joseph', 'Zaniolini', 'jzaniolini0@simplemachines.org', 'Male', '163.168.68.132', 'Pedro Leopoldo']\n['2', 'Freida', 'Drillingcourt', 'fdrillingcourt1@umich.edu', 'Female', '97.212.102.79', 'Buri']\n['3', 'Nanni', 'Herity', 'nherity2@statcounter.com', 'Female', '145.151.178.98', 'Claver']\n['4', 'Orazio', 'Frayling', 'ofrayling3@economist.com', 'Male', '25.199.143.143', 'Kungur']\n"
    }
   ],
   "source": [
    "for line in data_lines[:5]:\n",
    "    print(line)\n"
   ]
  },
  {
   "cell_type": "code",
   "execution_count": 48,
   "metadata": {},
   "outputs": [
    {
     "output_type": "execute_result",
     "data": {
      "text/plain": "'hgasquoine9@google.ru'"
     },
     "metadata": {},
     "execution_count": 48
    }
   ],
   "source": [
    "data_lines[10][3]"
   ]
  },
  {
   "cell_type": "code",
   "execution_count": 49,
   "metadata": {},
   "outputs": [
    {
     "output_type": "execute_result",
     "data": {
      "text/plain": "['jzaniolini0@simplemachines.org',\n 'fdrillingcourt1@umich.edu',\n 'nherity2@statcounter.com',\n 'ofrayling3@economist.com',\n 'jmurrison4@cbslocal.com',\n 'lgamet5@list-manage.com',\n 'dhowatt6@amazon.com',\n 'kherion7@amazon.com',\n 'chedworth8@china.com.cn',\n 'hgasquoine9@google.ru',\n 'ftarra@shareasale.com',\n 'abathb@umn.edu',\n 'lchastangc@goo.gl',\n 'cceried@yale.edu']"
     },
     "metadata": {},
     "execution_count": 49
    }
   ],
   "source": [
    "all_emails = []\n",
    "for line in data_lines[1:15]:\n",
    "    all_emails.append(line[3])\n",
    "all_emails"
   ]
  },
  {
   "cell_type": "code",
   "execution_count": 50,
   "metadata": {},
   "outputs": [],
   "source": [
    "file_to_output = open('to_save_file.csv', mode='w', newline='')"
   ]
  },
  {
   "cell_type": "code",
   "execution_count": 51,
   "metadata": {},
   "outputs": [],
   "source": [
    "csv_writer = csv.writer(file_to_output, delimiter=',')"
   ]
  },
  {
   "cell_type": "code",
   "execution_count": 52,
   "metadata": {},
   "outputs": [
    {
     "output_type": "execute_result",
     "data": {
      "text/plain": "7"
     },
     "metadata": {},
     "execution_count": 52
    }
   ],
   "source": [
    "csv_writer.writerow(['a','b', 'c'])"
   ]
  },
  {
   "cell_type": "code",
   "execution_count": 53,
   "metadata": {},
   "outputs": [],
   "source": [
    "csv_writer.writerows([['1', '2', '3'], ['4', '5', '6']])"
   ]
  },
  {
   "cell_type": "code",
   "execution_count": 54,
   "metadata": {},
   "outputs": [],
   "source": [
    "file_to_output.close()"
   ]
  },
  {
   "cell_type": "code",
   "execution_count": null,
   "metadata": {},
   "outputs": [],
   "source": []
  }
 ],
 "metadata": {
  "language_info": {
   "codemirror_mode": {
    "name": "ipython",
    "version": 3
   },
   "file_extension": ".py",
   "mimetype": "text/x-python",
   "name": "python",
   "nbconvert_exporter": "python",
   "pygments_lexer": "ipython3",
   "version": "3.7.4-final"
  },
  "orig_nbformat": 2,
  "kernelspec": {
   "name": "python37464bitlearningcondacf134821621f44b6a2588003cb8c2979",
   "display_name": "Python 3.7.4 64-bit ('Learning': conda)"
  }
 },
 "nbformat": 4,
 "nbformat_minor": 2
}